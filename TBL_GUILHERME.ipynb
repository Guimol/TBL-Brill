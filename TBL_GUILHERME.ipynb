{
  "nbformat": 4,
  "nbformat_minor": 0,
  "metadata": {
    "colab": {
      "name": "TBL_GUILHERME",
      "provenance": [],
      "collapsed_sections": [
        "Gk9Gl86hZnIo"
      ],
      "include_colab_link": true
    },
    "kernelspec": {
      "name": "python3",
      "display_name": "Python 3"
    },
    "language_info": {
      "name": "python"
    }
  },
  "cells": [
    {
      "cell_type": "markdown",
      "metadata": {
        "id": "view-in-github",
        "colab_type": "text"
      },
      "source": [
        "<a href=\"https://colab.research.google.com/github/Guimol/TBL-Brill/blob/main/TBL_GUILHERME.ipynb\" target=\"_parent\"><img src=\"https://colab.research.google.com/assets/colab-badge.svg\" alt=\"Open In Colab\"/></a>"
      ]
    },
    {
      "cell_type": "markdown",
      "source": [
        "#Projeto de mestrado\n",
        "### Algoritmo TBL-Brill"
      ],
      "metadata": {
        "id": "T0wC1-k1YloJ"
      }
    },
    {
      "cell_type": "markdown",
      "source": [
        "#Carregando o ambiente"
      ],
      "metadata": {
        "id": "Gk9Gl86hZnIo"
      }
    },
    {
      "cell_type": "code",
      "source": [
        "!pip install conllu\n",
        "!pip install pyconll\n",
        "\n",
        "import conllu, pyconll, io\n",
        "\n",
        "from conllu import parse_incr\n",
        "from nltk import BrillTagger, BrillTaggerTrainer"
      ],
      "metadata": {
        "id": "KwCYBz4NZxu9",
        "colab": {
          "base_uri": "https://localhost:8080/"
        },
        "outputId": "609f677b-9a75-4a8f-e481-1f480aacf03e"
      },
      "execution_count": 2,
      "outputs": [
        {
          "output_type": "stream",
          "name": "stdout",
          "text": [
            "Requirement already satisfied: conllu in /usr/local/lib/python3.7/dist-packages (4.4.1)\n",
            "Requirement already satisfied: pyconll in /usr/local/lib/python3.7/dist-packages (3.1.0)\n"
          ]
        }
      ]
    },
    {
      "cell_type": "markdown",
      "source": [
        "#Neste diretório estão os recursos que utilizei para formar o bl_anotada_snl.conllu\n",
        "##Está compartilhado com você e o Prof Evandro"
      ],
      "metadata": {
        "id": "CcAjNHl_chY5"
      }
    },
    {
      "cell_type": "code",
      "source": [
        "from io import open\n",
        "import requests\n",
        "\n",
        "path = 'https://raw.githubusercontent.com/Guimol/TBL-Brill/main/Corpus/bl_anotada_snl.conllu'\n",
        "\n",
        "r = requests.get(path, allow_redirects=True)\n",
        "open('conll_', 'wb').write(r.content)\n",
        "\n",
        "bl = pyconll.load_from_file('conll_')"
      ],
      "metadata": {
        "id": "GDS9qV4cgfsu"
      },
      "execution_count": 3,
      "outputs": []
    },
    {
      "cell_type": "code",
      "source": [
        "#Acredito que era algo assim que voce queria que fosse o algoritmo para encontro de snl e palavras\n",
        "#O erro aparentemente eh uma bobeira feito pelo proprio python, onde quando voce quer armazenar uma lista e em seguida limpa-la aonde ela foi armazenada tambem eh limpado automaticamente.\n",
        "\n",
        "snl = list()\n",
        "lista_palavras = list()\n",
        "lista_snl = list()\n",
        "lista_frases = list()\n",
        "\n",
        "for sentence in bl:\n",
        "  for word in sentence:\n",
        "    if word.xpos == 'B' or word.xpos == 'I':\n",
        "      snl.append((word.lemma, word.deprel))\n",
        "    \n",
        "    lista_palavras.append((word.lemma, word.deprel))\n",
        "\n",
        "  lista_snl.append(list(snl))\n",
        "  lista_frases.append(list(lista_palavras))\n",
        "\n",
        "  snl.clear()\n",
        "  lista_palavras.clear()"
      ],
      "metadata": {
        "id": "1bgHvE2_Imhu"
      },
      "execution_count": null,
      "outputs": []
    },
    {
      "cell_type": "code",
      "source": [
        "i, j = 0, 0\n",
        "\n",
        "for frase in lista_snl:\n",
        "  for tupla in frase:\n",
        "    if tupla[0] == None or tupla[1] == None:\n",
        "      lista_snl[i].pop(j)\n",
        "    j += 1\n",
        "  j = 0\n",
        "  i += 1"
      ],
      "metadata": {
        "id": "AGqKPnXLpKfa"
      },
      "execution_count": null,
      "outputs": []
    },
    {
      "cell_type": "code",
      "source": [
        "print(lista_snl)"
      ],
      "metadata": {
        "colab": {
          "base_uri": "https://localhost:8080/"
        },
        "id": "tjsK5wbxLvf7",
        "outputId": "2df30fb0-c2e6-4d0e-c1b3-41b6ae7974d2"
      },
      "execution_count": 30,
      "outputs": [
        {
          "output_type": "stream",
          "name": "stdout",
          "text": [
            "[[('o', 'det'), ('avaliação', 'root'), ('de', 'case'), ('o', 'det'), ('Instituto', 'nmod'), ('Internacional', 'flat:name'), ('de', 'case'), ('Estudos', 'nmod'), ('Estratégicos', 'flat:name'), ('de', 'case'), ('Londres', 'nmod')], [('o', 'det'), ('acordo', 'nsubj'), ('de', 'case'), ('o', 'det'), ('dívida', 'nmod'), ('o', 'det'), ('troca', 'obj'), ('de', 'case'), ('o', 'det'), ('papel', 'nmod'), ('atual', 'amod'), ('combinação', 'nmod'), ('de', 'case'), ('cinco', 'nummod'), ('tipo', 'nmod'), ('diferente', 'amod'), ('de', 'case'), ('papel', 'nmod')], [('o', 'det'), ('volante', 'obl'), ('o', 'det'), ('ataque', 'obj'), ('de', 'case'), ('o', 'det'), ('São', 'nmod'), ('Paulo', 'flat:name'), ('de', 'case'), ('o', 'det'), ('técnico', 'nmod')], [('o', 'det'), ('reunião', 'nsubj'), ('Budapeste', 'obl'), ('.', 'punct')], [('CONCERTOS', 'root'), ('INTERNACIONAIS', 'flat:name'), ('GLOBO', 'flat:name')], [('o', 'det'), ('presidente', 'obl'), ('de', 'case'), ('o', 'det'), ('Corecon', 'nmod'), ('o', 'det'), ('inflação', 'nsubj:pass'), ('de', 'case'), ('o', 'det'), ('real', 'nmod'), ('o', 'det'), ('oligopólio', 'obl:agent'), ('o', 'det'), ('equipe', 'obl:agent'), ('econômico', 'amod'), ('de', 'case'), ('o', 'det'), ('governo', 'nmod'), ('o', 'det'), ('principal', 'amod'), ('vilão', 'xcomp'), ('o', 'det'), ('subida', 'nmod'), ('de', 'case'), ('preço', 'nmod'), ('após', 'case'), ('o', 'det'), ('implantação', 'nmod'), ('de', 'case'), ('o', 'det'), ('urv', 'nmod')], [('Moreira', 'nsubj'), ('Alves', 'flat:name'), ('Collor', 'nmod'), ('dois', 'nummod'), ('mandato', 'obl'), ('de', 'case'), ('segurança', 'nmod'), ('o', 'det'), ('dois', 'nummod'), ('julgamento', 'obl')], [('dois', 'nummod'), ('árbitro', 'nsubj'), ('todo', 'det'), ('o', 'det'), ('podre', 'obj'), ('o', 'det'), ('federação', 'nsubj')], [('dirigente', 'nsubj'), ('de', 'case'), ('o', 'det'), ('futebol', 'nmod'), ('autoridade', 'conj'), ('policial', 'amod'), ('civil', 'conj'), ('militar', 'conj')], [], [('Munhoz', 'nsubj'), ('um', 'det'), ('bom', 'amod'), ('retórica', 'obj'), ('o', 'det'), ('publicitário', 'nsubj'), ('o', 'det'), ('candidato', 'nsubj'), ('o', 'det'), ('gravação', 'obl'), ('final', 'amod'), ('o', 'det'), ('ar', 'obl')], [('Muller', 'nsubj'), ('São', 'obl'), ('Paulo', 'flat:name'), ('Londres', 'obl')], [('o', 'det'), ('grande', 'amod'), ('desaceleração', 'nsubj'), ('o', 'det'), ('região', 'obl'), ('de', 'case'), ('o', 'det'), ('Avenida', 'nmod'), ('Faria', 'flat:name'), ('Lima', 'flat:name')], [('modelo', 'root'), ('sindical', 'amod'), ('negociação', 'conj'), ('coletivo', 'amod')], [('o', 'det'), ('equipe', 'nsubj'), ('o', 'det'), ('time', 'obj'), ('carioca', 'amod'), ('o', 'det'), ('ginásio', 'obl'), ('de', 'case'), ('o', 'det'), ('Tijuca', 'nmod'), ('Tênis', 'flat:name'), ('Clune', 'flat:name')], [('o', 'det'), ('venda', 'nsubj'), ('bruto', 'amod'), ('consequência', 'obl'), ('de', 'case'), ('redução', 'nmod'), ('o', 'det'), ('mercado', 'nmod'), ('interno', 'amod'), ('o', 'det'), ('externo', 'conj')], [('o', 'det'), ('intervenção', 'nsubj'), ('diplomático', 'amod'), ('russo', 'amod'), ('o', 'det'), ('envolvimento', 'obj'), ('ocidental', 'amod'), ('em', 'case'), ('o', 'det'), ('guerra', 'obl'), ('civil', 'amod'), ('em', 'case'), ('o', 'det'), ('Bósnia', 'obl')], [('o', 'det'), ('seu', 'det'), ('100', 'nummod'), ('quilômetro', 'nsubj'), ('este', 'det'), ('ano', 'obl'), ('200', 'nummod'), ('mil', 'flat'), ('tonelada', 'obj'), ('de', 'case'), ('soja', 'nmod')], [('custo', 'root'), ('tonelada', 'nmod')], [('o', 'det'), ('sul', 'nmod')], [('o', 'det'), ('PT', 'nsubj'), ('um', 'det'), ('seminário', 'obj'), ('em', 'case'), ('o', 'det'), ('nordeste', 'obl'), ('o', 'det'), ('necessidade', 'obl'), ('de', 'case'), ('seu', 'det'), ('construção', 'nmod')], [('o', 'det'), ('Bradesco', 'nsubj'), ('VISA', 'flat:name'), ('quatro', 'nmod'), ('parcela', 'obl'), ('o', 'det'), ('juro', 'nmod'), ('o', 'det'), ('cruzeiro', 'obl'), ('real', 'amod')], [('o', 'det'), ('futuro', 'amod'), ('médico', 'nsubj'), ('Juscelino', 'appos'), ('Kubitschek', 'flat:name'), ('o', 'det'), ('futuro', 'amod'), ('advogado', 'conj'), ('José', 'appos'), ('Maria', 'flat:name'), ('Alkimin', 'flat:name'), ('moça', 'nmod'), ('namoradeiro', 'amod')], [('o', 'det'), ('perspectiva', 'obj'), ('de', 'case'), ('aplicação', 'nmod'), ('por', 'case'), ('prazo', 'nmod'), ('mais', 'advmod'), ('longo', 'amod')], [('o', 'det'), ('nosso', 'det'), ('jogo', 'nsubj'), ('o', 'det'), ('secretário', 'nsubj'), ('de', 'case'), ('Segurança', 'nmod'), ('Pública', 'flat:name'), ('de', 'case'), ('o', 'det'), ('estado', 'nmod'), ('de', 'case'), ('São', 'nmod'), ('Paulo', 'flat:name')], [('Collor', 'nsubj'), ('telefonema', 'obj'), ('o', 'det'), ('tempo', 'obl'), ('inteiro', 'amod'), ('o', 'det'), ('advogado', 'nmod'), ('político', 'conj'), ('amigo', 'amod'), ('pessoa', 'conj'), ('solidariedade', 'obj')], [('o', 'det'), ('psicanalista', 'nmod'), ('Carl', 'appos'), ('Jung', 'flat:name'), ('o', 'det'), ('origem', 'root'), ('de', 'case'), ('o', 'det'), ('globo', 'nmod'), ('pendurar', 'acl'), ('em', 'case'), ('o', 'det'), ('árvore', 'obj'), ('contemporâneo', 'amod')], [('o', 'det'), ('Urv', 'iobj'), ('o', 'det'), ('poder', 'obj'), ('de', 'case'), ('o', 'det'), ('moeda', 'nmod'), ('de', 'case'), ('o', 'det'), ('país', 'nmod')], [('o', 'det'), ('noite', 'obl'), ('São', 'obl'), ('Paulo', 'flat:name'), ('o', 'det'), ('programa', 'obj')], [('o', 'det'), ('filme', 'nsubj'), ('mais', 'det'), ('atenção', 'obj'), ('o', 'det'), ('seu', 'det'), ('segundo', 'amod'), ('marido', 'iobj'), ('o', 'det'), ('papel', 'obj'), ('de', 'case'), ('Sócrates', 'nmod'), ('Onassis', 'flat:name'), ('o', 'det'), ('telefilme', 'obl')], [('o', 'det'), ('«', 'punct'), ('excesso', 'nsubj:pass'), ('»', 'punct'), ('de', 'case'), ('aumento', 'nmod')], [('esse', 'det'), ('ataque', 'obj'), ('em', 'case'), ('o', 'det'), ('bloqueio', 'nmod'), ('um', 'det'), ('missão', 'root'), ('quase', 'advmod'), ('impossível', 'amod')], [('o', 'det'), ('jogo', 'root')], [('um', 'det'), ('meio-campo', 'obj'), ('o', 'det'), ('proteção', 'nmod'), ('a', 'case'), ('o', 'det'), ('zaga', 'nmod'), ('mais', 'advmod'), ('inteligente', 'conj'), ('o', 'det'), ('combinação', 'nmod'), ('com', 'case'), ('o', 'det'), ('ataque', 'nmod')], [('Jason', 'nsubj'), ('o', 'det'), ('grande', 'amod'), ('número', 'obj'), ('de', 'case'), ('bala', 'nmod')], [('o', 'det'), ('almoço', 'obl'), ('familiar', 'amod')], [('o', 'det'), ('combate', 'nmod'), ('a', 'case'), ('o', 'det'), ('violência', 'nmod'), ('o', 'det'), ('prefeito', 'nsubj'), ('carioca', 'amod'), ('o', 'det'), ('criação', 'obj'), ('de', 'case'), ('o', 'det'), ('Guarda', 'nmod'), ('Municipal', 'flat:name'), ('o', 'det'), ('liberação', 'obj'), ('de', 'case'), ('área', 'nmod'), ('camelô', 'obl:agent')], [('Santana', 'nsubj'), ('morador', 'root'), ('antigo', 'amod'), ('de', 'case'), ('Lambari', 'obl'), (\"d'\", 'flat:name'), ('Oeste', 'flat:name')], [('o', 'det'), ('presidente', 'nsubj'), ('de', 'case'), ('o', 'det'), ('Cooper', 'nmod'), ('leite', 'obj'), ('c', 'nmod'), ('o', 'det'), ('posto', 'obl'), ('de', 'case'), ('venda', 'nmod')], [('o', 'det'), ('campanha', 'nsubj'), ('eleitoral', 'amod'), ('o', 'det'), ('noite', 'obl'), ('de', 'case'), ('quinta-feira', 'nmod'), ('um', 'det'), ('pronunciamento', 'nmod'), ('de', 'case'), ('oito', 'nummod'), ('minuto', 'nmod'), ('todo', 'det'), ('o', 'det'), ('candidato', 'nmod')], [('Gilmar', 'nsubj'), ('o', 'det'), ('senador', 'obj'), ('Esperidião', 'appos'), ('Amin', 'flat:name')], [('o', 'det'), ('CBD', 'nsubj'), ('Leônidas', 'obj'), ('Luizinho', 'conj'), ('Waldemar', 'conj'), ('de', 'case'), ('Brito', 'nmod')], [('o', 'det'), ('governo', 'nsubj'), ('outro', 'det'), ('má', 'amod'), ('notícia', 'obj'), ('empresário', 'nsubj'), ('contrário', 'xcomp'), ('a', 'case'), ('o', 'det'), ('CIP', 'obl')], [('estilista', 'nsubj'), ('o', 'det'), ('disposição', 'obl'), ('de', 'case'), ('o', 'det'), ('cliente', 'nmod')], [('Rosa', 'obl'), ('o', 'det'), ('alimento', 'obl'), ('afeto', 'nsubj')], [('o', 'det'), ('direção', 'nsubj'), ('geral', 'amod'), ('Paulo', 'root'), ('Borges', 'flat:name')], [('intelectual', 'root'), ('quatro-olhos', 'nmod')], [('nosso', 'det'), ('futebol', 'iobj'), ('o', 'det'), ('nosso', 'det'), ('árbitro', 'obj'), ('Marsiglia', 'obl:agent'), ('.', 'punct')], [('muito', 'nsubj'), ('de', 'case'), ('o', 'det'), ('prioridade', 'nmod'), ('de', 'case'), ('o', 'det'), ('novo', 'amod'), ('governo', 'nmod'), ('o', 'det'), ('prioridade', 'obj'), ('de', 'case'), ('o', 'det'), ('PT', 'nmod')], [('o', 'det'), ('Folhateen', 'obj')], [('um', 'det'), ('efeito', 'obl'), ('extra', 'amod'), ('G.', 'obj'), ('Love', 'flat:name'), ('Special', 'obj'), ('Sauce', 'flat:name')], [('papa', 'nsubj'), ('mulher', 'obj'), ('para', 'case'), ('secretaria', 'iobj')], [('Palmeiras', 'nsubj'), ('Corinthians', 'conj'), ('o', 'det'), ('finalíssima', 'obj'), ('de', 'case'), ('o', 'det'), ('brasileiro', 'nmod')], [], [('o', 'det'), ('Otker', 'nsubj'), ('o', 'det'), ('Somel', 'conj'), ('contraprova', 'obj')], [('o', 'det'), ('ex-prefeita', 'nsubj'), ('o', 'det'), ('divulgação', 'obj'), ('de', 'case'), ('um', 'det'), ('balanço', 'nmod'), ('comparativo', 'amod'), ('seu', 'det'), ('administração', 'nmod'), ('89', 'nummod'), ('a', 'case'), ('92', 'nmod'), ('o', 'det'), ('primeiro', 'amod'), ('ano', 'conj'), ('de', 'case'), ('o', 'det'), ('gestão', 'nmod'), ('Paulo', 'appos'), ('Maluf', 'flat:name'), ('o', 'det'), ('prefeitura', 'nmod'), ('de', 'case'), ('São', 'nmod'), ('Paulo', 'flat:name')], [('meu', 'det'), ('amigo', 'iobj'), ('espanhol', 'amod'), ('o', 'det'), ('profusão', 'obj'), ('de', 'case'), ('beijo', 'nmod'), ('melar', 'acl'), ('meu', 'det'), ('aveludado', 'amod'), ('bochecha', 'obj'), ('em', 'case'), ('o', 'det'), ('bienal', 'obl')], [('claro', 'amod'), ('evidência', 'root')], [('o', 'det'), ('menina', 'nsubj'), ('o', 'det'), ('hora', 'obl')], [('o', 'det'), ('razão', 'ccomp'), ('grande', 'amod'), ('espaço', 'obl'), ('entre', 'case'), ('o', 'det'), ('palavra', 'nmod')], [('o', 'det'), ('Servaz', 'obl'), ('o', 'det'), ('documento', 'obl'), ('o', 'det'), ('folha', 'obl:agent'), ('o', 'det'), ('Odebrecht', 'nsubj'), ('o', 'det'), ('pagamento', 'obj'), ('de', 'case'), ('US$', 'nmod'), ('110', 'nummod'), ('mil', 'flat'), ('uma', 'nummod'), ('porcentagem', 'conj'), ('a', 'case'), ('obra', 'obl'), ('de', 'case'), ('abastecimento', 'nmod'), ('de', 'case'), ('água', 'nmod'), ('em', 'case'), ('Roraima', 'obl')], [('liberdade', 'root'), ('sindical', 'amod')], [('o', 'det'), ('taxa', 'nsubj'), ('de', 'case'), ('juro', 'nmod'), ('equivalente', 'amod'), ('de', 'case'), ('o', 'det'), ('CDBs', 'nmod'), ('2,31', 'nummod'), ('ponto', 'obj'), ('percentual', 'amod'), ('a', 'case'), ('o', 'det'), ('média', 'nmod'), ('de', 'case'), ('o', 'det'), ('último', 'amod'), ('segunda-feira', 'nmod')], [('peixe', 'nsubj'), ('gosto', 'obj'), ('de', 'case'), ('carne', 'nmod'), ('um', 'det'), ('noite', 'obl'), ('o', 'det'), ('rodeio', 'obl'), ('salsicha', 'obj'), ('caseiro', 'amod'), ('frango', 'iobj'), ('kebab', 'nmod')], [('o', 'det'), ('reunião', 'nsubj'), ('Budapeste', 'obl')], [('um', 'det'), (\"'\", 'punct'), ('cadillac', 'nmod'), (\"'\", 'punct'), ('preto', 'amod'), ('conversível', 'amod'), ('o', 'det'), ('presidente', 'nsubj'), ('Menem', 'appos'), ('o', 'det'), ('pista', 'obj'), ('de', 'case'), ('o', 'det'), ('parque', 'nmod'), ('de', 'case'), ('o', 'det'), ('Sociedade', 'nmod'), ('Rural', 'flat:name'), ('Argentina', 'flat:name'), ('o', 'det'), ('aplauso', 'obl'), ('de', 'case'), ('o', 'det'), ('platéia', 'nmod'), ('de', 'case'), ('cerca', 'advmod'), ('de', 'fixed'), ('10', 'nummod'), ('mil', 'flat'), ('agricultor', 'nmod')], [('Romário', 'nsubj'), ('certos', 'det'), ('bar', 'obl'), ('um', 'det'), ('taxista', 'nsubj')], [('uma', 'obl'), ('de', 'case'), ('o', 'det'), ('bom', 'amod'), ('atriz', 'nmod'), ('de', 'case'), ('o', 'det'), ('mundo', 'nmod')], [('o', 'det'), ('PPR', 'nmod'), ('o', 'det'), ('discussão', 'nsubj'), ('o', 'det'), ('política', 'root'), ('de', 'case'), ('aliança', 'nmod'), ('o', 'det'), ('psdb', 'obj'), ('o', 'det'), ('novo', 'amod'), ('candidato', 'conj'), ('de', 'case'), ('o', 'det'), ('partido', 'nmod'), ('a', 'case'), ('presidente', 'nmod')], [('fantasia', 'root'), ('infantil', 'amod')], [('o', 'det'), ('único', 'root')], [('o', 'det'), ('último', 'amod'), ('versão', 'obj'), ('um', 'det'), ('vinho', 'obj'), ('novo', 'amod'), ('aroma', 'conj'), ('sabor', 'conj'), ('intenso', 'amod')], [('tempo', 'root')], [('o', 'det'), ('nível', 'nsubj'), ('de', 'case'), ('o', 'det'), ('depósito', 'nmod'), ('depósito', 'nmod'), ('interfinanceiro', 'amod'), ('a', 'case'), ('prazo', 'conj')], [('o', 'det'), ('cantora', 'nsubj'), ('violinista', 'conj'), ('Meca', 'appos'), ('Vargas', 'flat:name'), ('coro', 'obj'), ('com', 'case'), ('o', 'det'), ('contente', 'nmod'), ('com', 'case'), ('o', 'det'), ('computador', 'obl')], [('esse', 'det'), ('dificuldade', 'nsubj'), ('o', 'det'), ('lançamento', 'obl'), ('de', 'case'), ('o', 'det'), ('idéia', 'nmod'), ('economista', 'obj'), ('governo', 'conj'), ('caminho', 'obj'), ('mais', 'advmod'), ('rápido', 'amod')], [('o', 'det'), ('produtor', 'nsubj'), ('o', 'det'), ('colheita', 'obj'), ('fevereiro', 'obl'), ('passado', 'amod'), ('170', 'nummod'), ('hectare', 'nmod'), ('de', 'case'), ('amendoim', 'nmod'), ('240', 'nummod'), ('hectare', 'conj'), ('de', 'case'), ('soja', 'nmod')], [('o', 'det'), ('mar', 'nsubj'), ('cristalino', 'root')], [('Santana', 'nsubj'), ('um', 'det'), ('sorriso', 'obj'), ('amarelo', 'amod')], [('o', 'det'), ('noite', 'obl'), ('de', 'case'), ('ontem', 'advmod'), ('3.000', 'nummod'), ('pessoa', 'obj'), ('reter', 'acl'), ('o', 'det'), ('aeroporto', 'obl'), ('de', 'case'), ('Ezeiza', 'nmod')], [('o', 'det'), ('vitrina', 'nsubj'), ('surpresa', 'obj'), ('o', 'det'), ('caro', 'amod'), ('refinamento', 'obl'), ('de', 'case'), ('o', 'det'), ('avenida', 'nmod'), ('Montaigne', 'appos'), ('o', 'det'), ('pechincha', 'obl'), ('em', 'case'), ('o', 'det'), ('pequeno', 'amod'), ('loja', 'nmod'), ('espalhar', 'acl'), ('por', 'case'), ('o', 'det'), ('cidade', 'obl'), ('o', 'det'), ('magazine', 'conj')], [('o', 'det'), ('reunião', 'nsubj'), ('de', 'case'), ('bispo', 'nmod'), ('o', 'det'), ('vida', 'obj'), ('de', 'case'), ('padre', 'nmod'), ('freira', 'conj')], [('Gloria', 'nsubj'), ('Pires', 'flat:name'), ('seu', 'det'), ('estréia', 'obl'), ('como', 'case'), ('modette', 'nmod'), ('o', 'det'), ('marido', 'nsubj'), ('Orlando', 'appos'), ('Moraes', 'flat:name'), ('bis', 'obj')], [('Argentina', 'nsubj'), ('mais', 'det'), ('petróleo', 'obj')], [('o', 'det'), ('atentado', 'nsubj:pass'), ('o', 'det'), ('grupo', 'obl:agent'), ('radical', 'amod'), ('islâmico', 'amod'), (\"Gama'a\", 'appos'), ('al-Islamiya', 'flat:name'), ('campanha', 'obj'), ('contra', 'case'), ('o', 'det'), ('governo', 'nmod'), ('egípcio', 'amod'), ('o', 'det'), ('criação', 'obl'), ('de', 'case'), ('um', 'det'), ('estado', 'nmod'), ('islâmico', 'amod'), ('fundamentalista', 'amod')], [('tiroteio', 'obj')], [('o', 'det'), ('Chacal', 'nsubj'), ('o', 'det'), ('Brasil', 'nmod'), ('o', 'det'), ('Palácio', 'obj'), ('de', 'case'), ('o', 'det'), ('Justiça', 'nmod'), ('algema', 'obj'), ('um', 'det'), ('forte', 'amod'), ('esquema', 'obl:agent'), ('de', 'case'), ('segurança', 'nmod')], [('um', 'det'), ('gentileza', 'advcl'), ('de', 'case'), ('o', 'det'), ('governador', 'nmod')], [('o', 'det'), ('proposta', 'nsubj'), ('inicial', 'amod'), ('o', 'det'), ('primeiro', 'amod'), ('ano', 'obl'), ('o', 'det'), ('bacia', 'obj'), ('de', 'case'), ('o', 'det'), ('rio', 'nmod'), ('Meia', 'appos'), ('Ponte', 'flat:name')], [('este', 'det'), ('ruptura', 'nsubj'), ('modernizante', 'amod'), ('o', 'det'), ('PT', 'obj')], [('o', 'det'), ('governo', 'nsubj'), ('regra', 'obj'), ('o', 'det'), ('alongamento', 'obj')], [('seu', 'det'), ('companheiro', 'obj'), ('de', 'case'), ('ataque', 'nmod'), ('o', 'det'), ('bola', 'obl')], [('o', 'det'), ('vila', 'obl'), ('o', 'det'), ('bola', 'obj'), ('seu', 'det'), ('trajetória', 'obj')], [('Venezuela', 'root'), ('Miguel', 'parataxis'), ('Angel', 'flat:name'), ('Burelli', 'flat:name'), ('Rivas', 'flat:name')], [('o', 'det'), ('tiro', 'nsubj'), ('de', 'case'), ('Lula', 'nmod'), ('o', 'det'), ('alvo', 'obj')], [('Moscou', 'nsubj'), ('conferência', 'nsubj'), ('sobre', 'case'), ('segurança', 'nmod'), ('europeu', 'amod'), ('o', 'det'), ('Sérvia', 'obj'), ('sérvio-bosnio', 'obj')], [('o', 'det'), ('parágrafo', 'obl'), ('único', 'amod'), ('de', 'case'), ('o', 'det'), ('seu', 'det'), ('primeiro', 'amod'), ('artigo', 'nmod'), ('o', 'det'), ('candidato', 'nsubj'), ('patologia', 'obj'), ('com', 'case'), ('perspectiva', 'nmod'), ('presente', 'amod'), ('incapacidade', 'nmod'), ('em', 'case'), ('o', 'det'), ('futuro', 'nmod')], [('o', 'det'), ('Multimídia', 'obl'), ('Center', 'flat:name')], [('o', 'det'), ('dia', 'obl'), ('17', 'nummod'), ('o', 'det'), ('Playtronic', 'nsubj'), ('um', 'det'), ('estande', 'obj'), ('em', 'case'), ('o', 'det'), ('Iguatemi', 'obl')], [('o', 'det'), ('motorista', 'nsubj'), ('de', 'case'), ('o', 'det'), ('EMTU', 'nmod'), ('piso', 'obj'), ('salarial', 'amod'), ('de', 'case'), ('o', 'det'), ('empresa', 'nmod'), ('privado', 'amod')], [('infância', 'root')], [('o', 'det'), ('ataque', 'root')]]\n"
          ]
        }
      ]
    },
    {
      "cell_type": "markdown",
      "source": [
        "#Brill Tagger"
      ],
      "metadata": {
        "id": "9GVGYpJBd_ZP"
      }
    },
    {
      "cell_type": "code",
      "source": [
        "frases_treino = lista_frases[:int(0.7 * len(lista_frases))]\n",
        "frases_teste = lista_frases[int(0.7 * len(lista_frases)):]"
      ],
      "metadata": {
        "id": "TPYqKEqZ1-e2"
      },
      "execution_count": 31,
      "outputs": []
    },
    {
      "cell_type": "code",
      "source": [
        "import nltk"
      ],
      "metadata": {
        "id": "sc0FVrJh0GhE"
      },
      "execution_count": 33,
      "outputs": []
    },
    {
      "cell_type": "code",
      "source": [
        "t0 = nltk.DefaultTagger('DT')\n",
        "t1 = nltk.UnigramTagger(frases_treino, backoff=t0)\n",
        "t2 = nltk.BigramTagger(frases_treino, backoff=t1)\n",
        "t3 = nltk.TrigramTagger(frases_treino, backoff=t2)"
      ],
      "metadata": {
        "id": "Y3i8zzy71Les"
      },
      "execution_count": 34,
      "outputs": []
    },
    {
      "cell_type": "code",
      "source": [
        "# Loading Libraries\n",
        "from nltk.tag import brill, brill_trainer\n",
        "\n",
        "def train_brill_tagger(initial_tagger, train_sents, **kwargs):\n",
        "\ttemplates = [\n",
        "\t\t\tbrill.Template(brill.Pos([-1])),\n",
        "\t\t\tbrill.Template(brill.Pos([1])),\n",
        "\t\t\tbrill.Template(brill.Pos([-2])),\n",
        "\t\t\tbrill.Template(brill.Pos([2])),\n",
        "\t\t\tbrill.Template(brill.Pos([-2, -1])),\n",
        "\t\t\tbrill.Template(brill.Pos([1, 2])),\n",
        "\t\t\tbrill.Template(brill.Pos([-3, -2, -1])),\n",
        "\t\t\tbrill.Template(brill.Pos([1, 2, 3])),\n",
        "\t\t\tbrill.Template(brill.Pos([-1]), brill.Pos([1])),\n",
        "\t\t\tbrill.Template(brill.Word([-1])),\n",
        "\t\t\tbrill.Template(brill.Word([1])),\n",
        "\t\t\tbrill.Template(brill.Word([-2])),\n",
        "\t\t\tbrill.Template(brill.Word([2])),\n",
        "\t\t\tbrill.Template(brill.Word([-2, -1])),\n",
        "\t\t\tbrill.Template(brill.Word([1, 2])),\n",
        "\t\t\tbrill.Template(brill.Word([-3, -2, -1])),\n",
        "\t\t\tbrill.Template(brill.Word([1, 2, 3])),\n",
        "\t\t\tbrill.Template(brill.Word([-1]), brill.Word([1])),\n",
        "\t\t\t]\n",
        "\t\n",
        "\t# Using BrillTaggerTrainer to train\n",
        "\ttrainer = brill_trainer.BrillTaggerTrainer(\n",
        "\t\t\tinitial_tagger, templates, deterministic = True)\n",
        "\t\n",
        "\treturn trainer.train(train_sents, **kwargs)\n"
      ],
      "metadata": {
        "id": "FSdMz8JpFnDX"
      },
      "execution_count": 35,
      "outputs": []
    },
    {
      "cell_type": "code",
      "source": [
        "brill_tag = train_brill_tagger(t3, frases_treino)\n",
        "b = brill_tag.evaluate(frases_teste)\n",
        "\n",
        "print (\"Accuracy of brill_tag : \", b)"
      ],
      "metadata": {
        "colab": {
          "base_uri": "https://localhost:8080/"
        },
        "id": "uUeJ6wH_Gfmp",
        "outputId": "5261541d-70db-4cdc-c204-112807312b3c"
      },
      "execution_count": 36,
      "outputs": [
        {
          "output_type": "stream",
          "name": "stdout",
          "text": [
            "Accuracy of brill_tag :  0.5454545454545454\n"
          ]
        }
      ]
    },
    {
      "cell_type": "code",
      "source": [
        "#Links de ref\n",
        "#https://www.nltk.org/book/ch05.html\n",
        "#https://www.nltk.org/api/nltk.tag.sequential.html?highlight=unigramtagger#nltk.tag.sequential.UnigramTagger\n",
        "#https://www.nltk.org/api/nltk.tag.brill.html?highlight=brill#module-nltk.tag.brill\n",
        "#https://www.nltk.org/api/nltk.tag.brill_trainer.html?highlight=brill#module-nltk.tag.brill_trainer\n",
        "#https://www.geeksforgeeks.org/nlp-brill-tagger/"
      ],
      "metadata": {
        "id": "94wJFvab3xAc"
      },
      "execution_count": null,
      "outputs": []
    }
  ]
}