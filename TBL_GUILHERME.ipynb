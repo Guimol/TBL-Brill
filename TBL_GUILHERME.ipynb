{
  "nbformat": 4,
  "nbformat_minor": 0,
  "metadata": {
    "colab": {
      "name": "TBL_GUILHERME",
      "provenance": [],
      "collapsed_sections": [],
      "include_colab_link": true
    },
    "kernelspec": {
      "name": "python3",
      "display_name": "Python 3"
    },
    "language_info": {
      "name": "python"
    }
  },
  "cells": [
    {
      "cell_type": "markdown",
      "metadata": {
        "id": "view-in-github",
        "colab_type": "text"
      },
      "source": [
        "<a href=\"https://colab.research.google.com/github/Guimol/TBL-Brill/blob/main/TBL_GUILHERME.ipynb\" target=\"_parent\"><img src=\"https://colab.research.google.com/assets/colab-badge.svg\" alt=\"Open In Colab\"/></a>"
      ]
    },
    {
      "cell_type": "markdown",
      "source": [
        "#Projeto de mestrado\n",
        "### Algoritmo TBL-Brill"
      ],
      "metadata": {
        "id": "T0wC1-k1YloJ"
      }
    },
    {
      "cell_type": "markdown",
      "source": [
        "#Carregando o ambiente"
      ],
      "metadata": {
        "id": "Gk9Gl86hZnIo"
      }
    },
    {
      "cell_type": "code",
      "source": [
        "from google.colab import drive\n",
        "drive.mount('/content/drive')"
      ],
      "metadata": {
        "colab": {
          "base_uri": "https://localhost:8080/"
        },
        "id": "5kYhrGXhMAaz",
        "outputId": "f00134aa-2abc-47d7-84e2-5f5bd8714f5c"
      },
      "execution_count": null,
      "outputs": [
        {
          "output_type": "stream",
          "name": "stdout",
          "text": [
            "Mounted at /content/drive\n"
          ]
        }
      ]
    },
    {
      "cell_type": "code",
      "source": [
        "!pip install conllu\n",
        "!pip install pyconll\n",
        "\n",
        "import conllu, pyconll, io\n",
        "\n",
        "from conllu import parse_incr\n",
        "from nltk import BrillTagger, BrillTaggerTrainer"
      ],
      "metadata": {
        "id": "KwCYBz4NZxu9",
        "colab": {
          "base_uri": "https://localhost:8080/"
        },
        "outputId": "623a1bd7-3f8a-47d1-de92-9723cba8cc0e"
      },
      "execution_count": null,
      "outputs": [
        {
          "output_type": "stream",
          "name": "stdout",
          "text": [
            "Collecting conllu\n",
            "  Downloading conllu-4.4.1-py2.py3-none-any.whl (15 kB)\n",
            "Installing collected packages: conllu\n",
            "Successfully installed conllu-4.4.1\n",
            "Collecting pyconll\n",
            "  Downloading pyconll-3.1.0-py3-none-any.whl (26 kB)\n",
            "Installing collected packages: pyconll\n",
            "Successfully installed pyconll-3.1.0\n"
          ]
        }
      ]
    },
    {
      "cell_type": "markdown",
      "source": [
        "##Neste diretório estão os recursos que utilizei para formar o bl_anotada_snl.conllu\n",
        "##Está compartilhado com você e o Prof Evandro"
      ],
      "metadata": {
        "id": "CcAjNHl_chY5"
      }
    },
    {
      "cell_type": "code",
      "source": [
        "path = '/content/drive/MyDrive/MESTRADO/DISSERTAÇÃO MESTRADO/CODIGO/base_lines_consti_ud/'"
      ],
      "metadata": {
        "id": "rvQHyAWaalG2"
      },
      "execution_count": null,
      "outputs": []
    },
    {
      "cell_type": "code",
      "source": [
        "conll_ = path + 'bl_anotada_snl.conllu'\n",
        "bl = pyconll.load_from_file(conll_)\n",
        "# bl de baseline"
      ],
      "metadata": {
        "id": "jTSPFOyiaJR_"
      },
      "execution_count": null,
      "outputs": []
    },
    {
      "cell_type": "code",
      "source": [
        "#Eu baixei o arquivo e dei upload manualmente\n",
        "conll_local = '/content/bl_anotada_snl.conllu'\n",
        "bl = pyconll.load_from_file(conll_local)"
      ],
      "metadata": {
        "id": "IaWjCIA0ITVJ"
      },
      "execution_count": null,
      "outputs": []
    },
    {
      "cell_type": "code",
      "source": [
        "#Acredito que era algo assim que voce queria que fosse o algoritmo para encontro de snl e palavras\n",
        "#O erro aparentemente eh uma bobeira feito pelo proprio python, onde quando voce quer armazenar uma lista e em seguida limpa-la aonde ela foi armazenada tambem eh limpado automaticamente.\n",
        "\n",
        "snl = list()\n",
        "lista_palavras = list()\n",
        "lista_snl = list()\n",
        "lista_frases = list()\n",
        "\n",
        "for sentence in bl:\n",
        "  for word in sentence:\n",
        "    # if word.xpos == 'B' or 'I':\n",
        "    snl.append((word.lemma, word.deprel))\n",
        "    \n",
        "    lista_palavras.append((word.lemma, word.deprel))\n",
        "\n",
        "  lista_snl.append(list(snl))\n",
        "  lista_frases.append(list(lista_palavras))\n",
        "\n",
        "  snl.clear()\n",
        "  lista_palavras.clear()"
      ],
      "metadata": {
        "id": "1bgHvE2_Imhu"
      },
      "execution_count": null,
      "outputs": []
    },
    {
      "cell_type": "code",
      "source": [
        "print(lista_snl)"
      ],
      "metadata": {
        "colab": {
          "base_uri": "https://localhost:8080/"
        },
        "id": "tjsK5wbxLvf7",
        "outputId": "799eb775-e359-4818-89fe-62786ccde9c5"
      },
      "execution_count": null,
      "outputs": [
        {
          "output_type": "stream",
          "name": "stdout",
          "text": [
            "[[('esse', 'nsubj'), ('ser', 'cop'), ('o', 'det'), ('avaliação', 'root'), (None, None), ('de', 'case'), ('o', 'det'), ('Instituto', 'nmod'), ('Internacional', 'flat:name'), ('de', 'case'), ('Estudos', 'nmod'), ('Estratégicos', 'flat:name'), ('de', 'case'), ('Londres', 'nmod'), ('(', 'punct'), ('IIEE', 'appos'), (')', 'punct'), (',', 'punct'), ('um', 'appos'), (None, None), ('de', 'case'), ('o', 'det'), ('mais', 'advmod'), ('importante', 'amod'), ('centro', 'nmod'), ('de', 'case'), ('pesquisa', 'nmod'), ('militar', 'amod'), (None, None), ('de', 'case'), ('o', 'det'), ('Ocidente', 'nmod'), ('.', 'punct')], [('o', 'det'), ('acordo', 'nsubj'), (None, None), ('de', 'case'), ('o', 'det'), ('dívida', 'nmod'), ('implicar', 'root'), ('o', 'det'), ('troca', 'obj'), (None, None), ('de', 'case'), ('o', 'det'), ('papel', 'nmod'), ('atual', 'amod'), ('por', 'case'), ('um', 'det'), ('combinação', 'nmod'), ('de', 'case'), ('cinco', 'nummod'), ('tipo', 'nmod'), ('diferente', 'amod'), ('de', 'case'), ('novo', 'amod'), ('papel', 'nmod'), ('.', 'punct')], [('para', 'case'), ('o', 'det'), ('volante', 'obl'), ('Dinho', 'appos'), (',', 'punct'), ('um', 'appos'), (None, None), ('de', 'case'), ('o', 'det'), ('jogador', 'nmod'), ('responsável', 'amod'), (None, None), ('por', 'case'), ('o', 'det'), ('setor', 'obl'), ('de', 'case'), ('marcação', 'nmod'), (None, None), ('de', 'case'), ('o', 'det'), ('Santos', 'nmod'), (',', 'punct'), ('ser', 'cop'), ('impossível', 'root'), ('segurar', 'csubj'), ('o', 'det'), ('ataque', 'obj'), (None, None), ('de', 'case'), ('o', 'det'), ('São', 'nmod'), ('Paulo', 'flat:name'), (None, None), ('de', 'case'), ('o', 'det'), ('técnico', 'nmod'), ('Telê', 'appos'), ('Santana', 'flat:name'), ('.', 'punct')], [('o', 'det'), ('reunião', 'nsubj'), ('terminar', 'root'), ('ontem', 'advmod'), ('em', 'case'), ('Budapeste', 'obl'), ('.', 'punct')], [('CONCERTOS', 'root'), ('INTERNACIONAIS', 'flat:name'), ('GLOBO', 'flat:name'), (',', 'punct'), ('0h', 'appos'), ('.', 'punct')], [('segundo', 'case'), ('o', 'det'), ('presidente', 'obl'), (None, None), ('de', 'case'), ('o', 'det'), ('Corecon', 'nmod'), (',', 'punct'), ('Hélio', 'appos'), ('Portocarrero', 'flat:name'), (',', 'punct'), ('o', 'det'), ('inflação', 'nsubj:pass'), (None, None), ('de', 'case'), ('o', 'det'), ('real', 'nmod'), ('não', 'advmod'), ('ser', 'aux:pass'), ('puxar', 'root'), (None, None), ('por', 'case'), ('o', 'det'), ('oligopólio', 'obl:agent'), (',', 'punct'), ('apontar', 'acl'), (None, None), ('por', 'case'), ('o', 'det'), ('equipe', 'obl:agent'), ('econômico', 'amod'), (None, None), ('de', 'case'), ('o', 'det'), ('governo', 'nmod'), ('como', 'case'), ('o', 'det'), ('principal', 'amod'), ('vilão', 'xcomp'), (None, None), ('em', 'case'), ('o', 'det'), ('subida', 'nmod'), ('de', 'case'), ('preço', 'nmod'), ('após', 'case'), ('o', 'det'), ('implantação', 'nmod'), (None, None), ('de', 'case'), ('o', 'det'), ('urv', 'nmod'), ('.', 'punct')], [('Moreira', 'nsubj'), ('Alves', 'flat:name'), ('também', 'advmod'), ('votar', 'root'), ('a', 'case'), ('favor', 'obl'), ('de', 'case'), ('Collor', 'nmod'), ('em', 'case'), ('outro', 'det'), ('dois', 'nummod'), ('mandato', 'obl'), ('de', 'case'), ('segurança', 'nmod'), (',', 'punct'), ('mas', 'cc'), ('ser', 'aux:pass'), ('vencer', 'conj'), (None, None), ('em', 'case'), ('o', 'det'), ('dois', 'nummod'), ('julgamento', 'obl'), ('.', 'punct')], [('apenas', 'advmod'), ('dois', 'nummod'), ('árbitro', 'nsubj'), ('resolver', 'root'), ('contar', 'xcomp'), ('todo', 'det'), ('o', 'det'), ('podre', 'obj'), (',', 'punct'), ('enquanto', 'advmod'), ('o', 'det'), ('federação', 'nsubj'), ('ter', 'advcl'), ('mais', 'advmod'), ('de', 'fixed'), ('70', 'obj'), ('.', 'punct')], [('estar', 'cop'), ('presente', 'root'), ('dirigente', 'nsubj'), (None, None), ('de', 'case'), ('o', 'det'), ('futebol', 'nmod'), (',', 'punct'), ('e', 'cc'), ('autoridade', 'conj'), ('policial', 'amod'), ('civil', 'conj'), ('e', 'cc'), ('militar', 'conj'), ('.', 'punct')], [('felicitar', 'root'), ('.', 'punct')], [('convencer', 'advcl'), ('de', 'mark'), ('que', 'mark'), ('Munhoz', 'nsubj'), ('ter', 'ccomp'), ('um', 'det'), ('bom', 'amod'), ('retórica', 'obj'), (',', 'punct'), ('o', 'det'), ('publicitário', 'nsubj'), ('pretender', 'root'), ('deixar', 'xcomp'), ('o', 'det'), ('candidato', 'nsubj'), ('«', 'punct'), ('falar', 'ccomp'), ('o', 'obj'), ('que', 'obj'), ('querer', 'acl:relcl'), ('»', 'punct'), ('para', 'mark'), (',', 'punct'), ('antes', 'advmod'), (None, None), ('de', 'case'), ('o', 'det'), ('gravação', 'obl'), ('final', 'amod'), (',', 'punct'), ('decidir', 'advcl'), ('o', 'obj'), ('que', 'nsubj'), ('ir', 'acl:relcl'), (None, None), ('a', 'case'), ('o', 'det'), ('ar', 'obl'), ('.', 'punct')], [('Muller', 'nsubj'), ('chegar', 'root'), (None, None), ('a', 'case'), ('o', 'det'), ('5h25', 'obl'), ('de', 'case'), ('hoje', 'advmod'), ('a', 'case'), ('São', 'obl'), ('Paulo', 'flat:name'), (',', 'punct'), ('vir', 'advcl'), ('de', 'case'), ('Londres', 'obl'), ('.', 'punct')], [('o', 'det'), ('grande', 'amod'), ('desaceleração', 'nsubj'), ('ocorrer', 'root'), (None, None), ('em', 'case'), ('o', 'det'), ('região', 'obl'), (None, None), ('de', 'case'), ('o', 'det'), ('Avenida', 'nmod'), ('Faria', 'flat:name'), ('Lima', 'flat:name'), ('.', 'punct')], [('modelo', 'root'), ('sindical', 'amod'), ('e', 'cc'), ('negociação', 'conj'), ('coletivo', 'amod')], [('o', 'det'), ('equipe', 'nsubj'), ('enfrentar', 'root'), ('o', 'det'), ('time', 'obj'), ('carioca', 'amod'), (None, None), ('a', 'case'), ('o', 'det'), ('20h30', 'obl'), (None, None), ('em', 'case'), ('o', 'det'), ('ginásio', 'obl'), (None, None), ('de', 'case'), ('o', 'det'), ('Tijuca', 'nmod'), ('Tênis', 'flat:name'), ('Clune', 'flat:name')], [('o', 'det'), ('venda', 'nsubj'), ('bruto', 'amod'), ('cair', 'root'), ('de', 'case'), ('US$', 'obl'), ('3,78', 'nummod'), ('bilhão', 'flat'), ('para', 'case'), ('US$', 'obl'), ('3,57', 'nummod'), ('bilhão', 'flat'), (',', 'punct'), ('consequência', 'obl'), ('de', 'case'), ('redução', 'nmod'), ('tanto', 'cc'), (None, None), ('em', 'case'), ('o', 'det'), ('mercado', 'nmod'), ('interno', 'amod'), ('como', 'cc'), (None, None), ('em', 'case'), ('o', 'det'), ('externo', 'conj'), ('.', 'punct')], [('o', 'det'), ('intervenção', 'nsubj'), ('diplomático', 'amod'), ('russo', 'amod'), ('ser', 'cop'), ('decisivo', 'root'), ('para', 'mark'), ('evitar', 'advcl'), ('o', 'det'), ('envolvimento', 'obj'), ('ocidental', 'amod'), (None, None), ('em', 'case'), ('o', 'det'), ('guerra', 'obl'), ('civil', 'amod'), (None, None), ('em', 'case'), ('o', 'det'), ('Bósnia', 'obl'), ('.', 'punct')], [('o', 'det'), ('seu', 'det'), ('100', 'nummod'), ('quilômetro', 'nsubj'), ('já', 'advmod'), ('levar', 'root'), ('este', 'det'), ('ano', 'obl'), ('200', 'nummod'), ('mil', 'flat'), ('tonelada', 'obj'), ('de', 'case'), ('soja', 'nmod'), ('.', 'punct')], [('custo', 'root'), (':', 'punct'), ('US$', 'appos'), ('8', 'nummod'), ('por', 'case'), ('tonelada', 'nmod'), ('.', 'punct')], [(None, None), ('em', 'case'), ('o', 'det'), ('sul', 'nmod'), (',', 'punct'), ('US$', 'root'), ('24', 'nummod'), ('!', 'punct')], [('por', 'case'), ('que', 'obl'), ('não', 'advmod'), ('publicar', 'root'), ('que', 'mark'), ('o', 'det'), ('PT', 'nsubj'), ('fazer', 'ccomp'), ('um', 'det'), ('seminário', 'obj'), (None, None), ('em', 'case'), ('o', 'det'), ('nordeste', 'obl'), ('sobre', 'case'), ('ela', 'nmod'), ('e', 'cc'), ('concluir', 'conj'), (None, None), ('por', 'case'), ('o', 'det'), ('necessidade', 'obl'), ('de', 'case'), ('seu', 'det'), ('construção', 'nmod'), ('?', 'punct')], [('até', 'case'), ('agora', 'advmod'), (',', 'punct'), ('o', 'det'), ('Bradesco', 'nsubj'), ('VISA', 'flat:name'), ('financiar', 'root'), ('em', 'case'), ('até', 'case'), ('quatro', 'nmod'), ('parcela', 'obl'), (',', 'punct'), ('com', 'case'), ('o', 'det'), ('juro', 'nmod'), ('cobrar', 'acl'), ('sobre', 'case'), ('o', 'det'), ('cruzeiro', 'obl'), ('real', 'amod'), ('.', 'punct')], [('jovem', 'amod'), ('estudante', 'obl'), (None, None), ('em', 'case'), ('o', 'det'), ('Belo', 'nmod'), ('Horizonte', 'flat:name'), (None, None), ('de', 'case'), ('o', 'det'), ('ano', 'nmod'), ('20', 'nummod'), (',', 'punct'), ('o', 'det'), ('futuro', 'amod'), ('médico', 'nsubj'), ('Juscelino', 'appos'), ('Kubitschek', 'flat:name'), ('e', 'cc'), ('o', 'det'), ('futuro', 'amod'), ('advogado', 'conj'), ('José', 'appos'), ('Maria', 'flat:name'), ('Alkimin', 'flat:name'), ('costumar', 'root'), ('sair', 'xcomp'), ('junto', 'advmod'), ('em', 'case'), ('busca', 'obl'), ('de', 'case'), ('moça', 'nmod'), ('namoradeiro', 'amod'), ('.', 'punct')], [('abrir', 'root'), ('o', 'det'), ('perspectiva', 'obj'), ('de', 'case'), ('aplicação', 'nmod'), ('por', 'case'), ('prazo', 'nmod'), ('mais', 'advmod'), ('longo', 'amod'), ('.', 'punct')], [('o', 'det'), ('nosso', 'det'), ('jogo', 'nsubj'), ('aqui', 'advmod'), ('ser', 'cop'), ('prevenção', 'parataxis'), ('»', 'punct'), (',', 'punct'), ('dizer', 'root'), ('o', 'det'), ('secretário', 'nsubj'), ('de', 'case'), ('Segurança', 'nmod'), ('Pública', 'flat:name'), (None, None), ('de', 'case'), ('o', 'det'), ('estado', 'nmod'), ('de', 'case'), ('São', 'nmod'), ('Paulo', 'flat:name'), (',', 'punct'), ('Antônio', 'appos'), ('Correia', 'flat:name'), ('Meyer', 'flat:name'), ('.', 'punct')], [('Collor', 'nsubj'), ('receber', 'root'), ('telefonema', 'obj'), ('o', 'det'), ('tempo', 'obl'), ('inteiro', 'amod'), (',', 'punct'), (None, None), ('de', 'case'), ('o', 'det'), ('advogado', 'nmod'), (',', 'punct'), ('de', 'case'), ('político', 'conj'), ('amigo', 'amod'), ('e', 'cc'), ('de', 'case'), ('pessoa', 'conj'), ('que', 'nsubj'), ('prestar', 'acl:relcl'), ('solidariedade', 'obj'), ('.', 'punct')], [('para', 'case'), ('o', 'det'), ('psicanalista', 'nmod'), ('Carl', 'appos'), ('Jung', 'flat:name'), (',', 'punct'), ('este', 'nsubj'), ('ser', 'cop'), ('o', 'det'), ('origem', 'root'), (None, None), ('de', 'case'), ('o', 'det'), ('globo', 'nmod'), ('pendurar', 'acl'), (None, None), ('em', 'case'), ('o', 'det'), ('árvore', 'obj'), ('contemporâneo', 'amod'), ('.', 'punct')], [('isto', 'nsubj'), ('restringir', 'root'), (None, None), ('a', 'case'), ('o', 'det'), ('Urv', 'iobj'), ('todo', 'det'), ('o', 'det'), ('poder', 'obj'), (None, None), ('de', 'case'), ('o', 'det'), ('moeda', 'nmod'), (None, None), ('de', 'case'), ('o', 'det'), ('país', 'nmod'), ('.', 'punct')], [(None, None), ('a', 'case'), ('o', 'det'), ('noite', 'obl'), ('vir', 'root'), ('a', 'case'), ('São', 'obl'), ('Paulo', 'flat:name'), ('para', 'mark'), ('participar', 'advcl'), (None, None), ('de', 'case'), ('o', 'det'), ('programa', 'obj'), ('«', 'punct'), ('Fogo', 'appos'), ('Cruzado', 'flat:name'), ('»', 'punct'), ('.', 'punct')], [('além', 'advmod'), ('de', 'case'), ('muito', 'advmod'), ('ruim', 'obl'), (',', 'punct'), ('o', 'det'), ('filme', 'nsubj'), ('«', 'punct'), ('O', 'appos'), ('Magnata', 'flat:name'), ('Grego', 'flat:name'), ('»', 'punct'), ('(', 'punct'), ('The', 'appos'), ('Greek', 'flat:name'), ('Tycoon', 'flat:name'), (')', 'punct'), ('dedicar', 'root'), ('mais', 'det'), ('atenção', 'obj'), (None, None), ('a', 'case'), ('o', 'det'), ('seu', 'det'), ('segundo', 'amod'), ('marido', 'iobj'), (',', 'punct'), ('interpretar', 'acl'), ('por', 'case'), ('Anthony', 'obl:agent'), ('Quinn', 'flat:name'), (',', 'punct'), ('que', 'nsubj'), ('aliás', 'advmod'), ('fazer', 'acl:relcl'), ('o', 'det'), ('papel', 'obj'), ('de', 'case'), ('Sócrates', 'nmod'), ('Onassis', 'flat:name'), ('(', 'punct'), ('sogro', 'appos'), ('de', 'case'), ('Jackie', 'nmod'), (')', 'punct'), (None, None), ('em', 'case'), ('o', 'det'), ('telefilme', 'obl'), ('«', 'punct'), ('Onassis:', 'appos'), ('The', 'flat:name'), ('Richest', 'flat:name'), ('Man', 'flat:name'), ('in', 'flat:name'), ('the', 'flat:name'), ('World', 'flat:name'), ('»', 'punct'), (',', 'punct'), ('produzir', 'acl'), ('em', 'case'), ('1988', 'obl'), ('.', 'punct')], [('sequer', 'advmod'), ('ele', 'iobj'), ('ocorrer', 'root'), ('que', 'mark'), ('em', 'case'), ('fevereiro', 'obl'), ('o', 'det'), ('«', 'punct'), ('excesso', 'nsubj:pass'), ('»', 'punct'), ('de', 'case'), ('aumento', 'nmod'), ('poder', 'csubj'), ('ser', 'aux:pass'), ('compensar', 'xcomp'), ('.', 'punct')], [('parar', 'csubj'), ('esse', 'det'), ('ataque', 'obj'), (None, None), ('em', 'case'), ('o', 'det'), ('bloqueio', 'nmod'), ('ser', 'cop'), ('um', 'det'), ('missão', 'root'), ('quase', 'advmod'), ('impossível', 'amod'), ('.', 'punct')], [('o', 'det'), ('jogo', 'root')], [('ter', 'root'), (',', 'punct'), ('então', 'advmod'), (',', 'punct'), ('um', 'det'), ('meio-campo', 'obj'), ('ainda', 'advmod'), ('mais', 'advmod'), ('sólido', 'amod'), (None, None), ('em', 'case'), ('o', 'det'), ('proteção', 'nmod'), (None, None), ('a', 'case'), ('o', 'det'), ('zaga', 'nmod'), ('e', 'cc'), ('mais', 'advmod'), ('inteligente', 'conj'), (',', 'punct'), ('veloz', 'conj'), ('e', 'cc'), ('agressivo', 'conj'), (',', 'punct'), (None, None), ('em', 'case'), ('o', 'det'), ('combinação', 'nmod'), ('com', 'case'), ('o', 'det'), ('ataque', 'nmod'), ('.', 'punct')], [('coincidentemente', 'advmod'), (',', 'punct'), ('Jason', 'nsubj'), ('também', 'advmod'), ('levar', 'root'), ('o', 'det'), ('grande', 'amod'), ('número', 'obj'), ('de', 'case'), ('bala', 'nmod'), ('(', 'punct'), ('132', 'appos'), (')', 'punct'), (',', 'punct'), ('contra', 'case'), ('27', 'obl'), ('de', 'case'), ('Michael', 'nmod'), ('Myers', 'flat:name'), ('e', 'cc'), ('apenas', 'advmod'), ('seis', 'conj'), ('de', 'case'), ('Freddy', 'nmod'), ('Krueger', 'flat:name'), ('.', 'punct')], [('durante', 'case'), ('o', 'det'), ('almoço', 'obl'), ('familiar', 'amod'), (',', 'punct'), ('por', 'advmod'), ('exemplo', 'fixed'), (',', 'punct'), (None, None), ('falar', 'root'), ('se', 'nsubj'), ('muito', 'advmod'), ('sobre', 'case'), ('quase', 'advmod'), ('nada', 'obj'), ('e', 'cc'), ('ninguém', 'nsubj'), ('mastigar', 'conj'), ('.', 'punct')], [('como', 'case'), ('exemplo', 'xcomp'), (None, None), ('em', 'case'), ('o', 'det'), ('combate', 'nmod'), (None, None), ('a', 'case'), ('o', 'det'), ('violência', 'nmod'), (',', 'punct'), ('o', 'det'), ('prefeito', 'nsubj'), ('carioca', 'amod'), ('citar', 'root'), ('o', 'det'), ('criação', 'obj'), (None, None), ('de', 'case'), ('o', 'det'), ('Guarda', 'nmod'), ('Municipal', 'flat:name'), (',', 'punct'), ('um', 'det'), ('grupo', 'appos'), ('de', 'case'), ('atividade', 'nmod'), ('especial', 'amod'), ('que', 'nsubj'), ('ter', 'aux'), ('atuar', 'acl:relcl'), ('mais', 'advmod'), (None, None), ('em', 'case'), ('o', 'det'), ('liberação', 'obj'), ('de', 'case'), ('área', 'nmod'), ('tradicionalmente', 'advmod'), ('ocupar', 'acl'), ('por', 'case'), ('camelô', 'obl:agent'), ('.', 'punct')], [('Santana', 'nsubj'), ('ser', 'cop'), ('morador', 'root'), ('antigo', 'amod'), ('de', 'case'), ('Lambari', 'obl'), (\"d'\", 'flat:name'), ('Oeste', 'flat:name'), ('.', 'punct')], [('o', 'det'), ('presidente', 'nsubj'), (None, None), ('de', 'case'), ('o', 'det'), ('Cooper', 'nmod'), (',', 'punct'), ('Benedito', 'appos'), ('Vieira', 'flat:name'), ('Pereira', 'flat:name'), (',', 'punct'), ('49', 'conj'), (',', 'punct'), ('afirmar', 'root'), ('que', 'mark'), ('pretender', 'ccomp'), ('distribuir', 'xcomp'), ('leite', 'obj'), ('c', 'nmod'), (None, None), ('em', 'case'), ('o', 'det'), ('posto', 'obl'), ('de', 'case'), ('venda', 'nmod'), ('hoje', 'advmod'), ('.', 'punct')], [('o', 'det'), ('campanha', 'nsubj'), ('eleitoral', 'amod'), (None, None), ('encerrar', 'root'), ('se', 'expl'), (None, None), ('em', 'case'), ('o', 'det'), ('noite', 'obl'), ('de', 'case'), ('quinta-feira', 'nmod'), (',', 'punct'), ('com', 'case'), ('um', 'det'), ('pronunciamento', 'nmod'), ('de', 'case'), ('oito', 'nummod'), ('minuto', 'nmod'), ('de', 'case'), ('todo', 'det'), ('o', 'det'), ('candidato', 'nmod'), ('.', 'punct')], [('Gilmar', 'nsubj'), ('pretender', 'root'), ('votar', 'xcomp'), (None, None), ('em', 'case'), ('o', 'det'), ('senador', 'obj'), ('Esperidião', 'appos'), ('Amin', 'flat:name'), ('(', 'punct'), ('PPR-SC', 'parataxis'), (')', 'punct'), ('.', 'punct')], [('o', 'det'), ('CBD', 'nsubj'), ('aliciar', 'root'), ('Leônidas', 'obj'), ('(', 'punct'), ('Vasco', 'parataxis'), (')', 'punct'), (',', 'punct'), ('Luizinho', 'conj'), ('e', 'cc'), ('Waldemar', 'conj'), ('de', 'case'), ('Brito', 'nmod'), ('(', 'punct'), ('São', 'appos'), ('Paulo', 'flat:name'), (')', 'punct'), (',', 'punct'), ('entre', 'case'), ('outro', 'obl'), ('.', 'punct')], [('o', 'det'), ('governo', 'nsubj'), ('receber', 'root'), ('ontem', 'advmod'), ('outro', 'det'), ('má', 'amod'), ('notícia', 'obj'), (':', 'punct'), ('empresário', 'nsubj'), ('se', 'expl'), ('declarar', 'acl:relcl'), ('contrário', 'xcomp'), (None, None), ('a', 'case'), ('o', 'det'), ('CIP', 'obl'), ('.', 'punct')], [('estilista', 'nsubj'), ('estar', 'root'), (None, None), ('a', 'case'), ('o', 'det'), ('disposição', 'obl'), (None, None), ('de', 'case'), ('o', 'det'), ('cliente', 'nmod'), ('.', 'punct')], [('segundo', 'case'), ('Rosa', 'obl'), (',', 'punct'), ('nutricionista', 'appos'), ('e', 'cc'), ('professora', 'conj'), (None, None), ('de', 'case'), ('o', 'det'), ('PUC', 'nmod'), ('de', 'case'), ('campina', 'nmod'), (',', 'punct'), ('junto', 'advmod'), ('com', 'case'), ('o', 'det'), ('alimento', 'obl'), ('se', 'expl'), ('«', 'punct'), ('ingerir', 'root'), ('e', 'cc'), ('digerir', 'conj'), ('afeto', 'nsubj'), ('»', 'punct'), ('.', 'punct')], [('o', 'det'), ('direção', 'nsubj'), ('geral', 'amod'), ('ser', 'cop'), ('de', 'case'), ('Paulo', 'root'), ('Borges', 'flat:name'), ('.', 'punct')], [('só', 'advmod'), ('intelectual', 'root'), ('quatro-olhos', 'nmod'), ('?', 'punct')], [('se', 'mark'), ('poder', 'advcl'), ('nós', 'obj'), ('orgulhar', 'xcomp'), ('de', 'case'), ('nosso', 'det'), ('futebol', 'iobj'), (',', 'punct'), ('não', 'advmod'), ('poder', 'root'), ('dizer', 'xcomp'), ('o', 'det'), ('mesmo', 'xcomp'), (None, None), ('de', 'case'), ('o', 'det'), ('nosso', 'det'), ('árbitro', 'obj'), (',', 'punct'), ('aqui', 'advmod'), ('representar', 'acl'), ('exatamente', 'advmod'), ('por', 'case'), ('Marsiglia', 'obl:agent'), ('.', 'punct')], [('muito', 'nsubj'), (None, None), ('de', 'case'), ('o', 'det'), ('prioridade', 'nmod'), (None, None), ('de', 'case'), ('o', 'det'), ('novo', 'amod'), ('governo', 'nmod'), ('coincidir', 'root'), ('com', 'case'), ('o', 'det'), ('prioridade', 'obj'), (None, None), ('de', 'case'), ('o', 'det'), ('PT', 'nmod'), ('.', 'punct')], [('adorar', 'root'), ('se', 'mark'), ('você', 'nsubj'), ('«', 'punct'), ('engordar', 'ccomp'), ('»', 'punct'), ('um', 'advmod'), ('pouco', 'fixed'), ('mais', 'advmod'), ('o', 'det'), ('Folhateen', 'obj'), ('.', 'punct')], [('e', 'cc'), (',', 'punct'), ('para', 'case'), ('um', 'det'), ('efeito', 'obl'), ('extra', 'amod'), (',', 'punct'), ('citar', 'root'), ('G.', 'obj'), ('Love', 'flat:name'), ('and', 'cc'), ('Special', 'obj'), ('Sauce', 'flat:name'), ('.', 'punct')], [('papa', 'nsubj'), ('indicar', 'root'), ('mulher', 'obj'), ('para', 'case'), ('secretaria', 'iobj')], [('pois', 'discourse'), ('é', 'fixed'), (',', 'punct'), ('Palmeiras', 'nsubj'), ('e', 'cc'), ('Corinthians', 'conj'), ('fazer', 'root'), ('hoje', 'advmod'), ('o', 'det'), ('finalíssima', 'obj'), (None, None), ('de', 'case'), ('o', 'det'), ('brasileiro', 'nmod'), ('.', 'punct')], [('não', 'advmod'), ('eu', 'obj'), ('comprometer', 'root')], [('o', 'det'), ('Otker', 'nsubj'), ('e', 'cc'), ('o', 'det'), ('Somel', 'conj'), ('ir', 'aux'), ('pedir', 'root'), ('contraprova', 'obj'), ('.', 'punct')], [('o', 'det'), ('ex-prefeita', 'nsubj'), ('Luiza', 'appos'), ('Erundina', 'flat:name'), ('participar', 'root'), ('hoje', 'advmod'), (None, None), ('de', 'case'), ('o', 'det'), ('divulgação', 'obj'), ('de', 'case'), ('um', 'det'), ('balanço', 'nmod'), ('comparativo', 'amod'), ('entre', 'case'), ('seu', 'det'), ('administração', 'nmod'), ('89', 'nummod'), ('a', 'case'), ('92', 'nmod'), ('e', 'cc'), ('o', 'det'), ('primeiro', 'amod'), ('ano', 'conj'), (None, None), ('de', 'case'), ('o', 'det'), ('gestão', 'nmod'), ('Paulo', 'appos'), ('Maluf', 'flat:name'), (None, None), ('a', 'case'), ('o', 'det'), ('frente', 'nmod'), (None, None), ('de', 'case'), ('o', 'det'), ('prefeitura', 'nmod'), ('de', 'case'), ('São', 'nmod'), ('Paulo', 'flat:name'), ('.', 'punct')], [('comentar', 'root'), ('com', 'case'), ('meu', 'det'), ('amigo', 'iobj'), ('espanhol', 'amod'), (',', 'punct'), ('Dolores', 'appos'), ('de', 'case'), ('Pança', 'nmod'), (',', 'punct'), ('o', 'det'), ('profusão', 'obj'), ('de', 'case'), ('beijo', 'nmod'), ('melar', 'acl'), ('que', 'nsubj'), ('massacrar', 'acl:relcl'), ('meu', 'det'), ('aveludado', 'amod'), ('bochecha', 'obj'), (None, None), ('em', 'case'), ('o', 'det'), ('bienal', 'obl'), ('.', 'punct')], [('claro', 'amod'), ('evidência', 'root')], [('o', 'det'), ('menina', 'nsubj'), ('morrer', 'root'), (None, None), ('em', 'case'), ('o', 'det'), ('hora', 'obl'), ('.', 'punct')], [('«', 'punct'), ('eles', 'nsubj'), ('ser', 'cop'), ('o', 'det'), ('razão', 'ccomp'), ('de', 'mark'), ('tudo', 'det'), ('o', 'det'), ('que', 'obj'), ('fazer', 'acl'), (',', 'punct'), ('de', 'case'), ('tudo', 'det'), ('aquilo', 'conj'), ('em', 'mark'), ('que', 'obj'), ('acreditar', 'acl:relcl'), ('»', 'punct'), (',', 'punct'), ('dizer', 'root'), (',', 'punct'), ('com', 'case'), ('grande', 'amod'), ('espaço', 'obl'), ('entre', 'case'), ('o', 'det'), ('palavra', 'nmod'), ('.', 'punct')], [('com', 'case'), ('o', 'det'), ('Servaz', 'obl'), (',', 'punct'), ('segundo', 'case'), ('o', 'det'), ('documento', 'obl'), ('obter', 'acl'), (None, None), ('por', 'case'), ('o', 'det'), ('folha', 'obl:agent'), ('o', 'det'), ('Odebrecht', 'nsubj'), ('acertar', 'root'), ('o', 'det'), ('pagamento', 'obj'), ('de', 'case'), ('US$', 'nmod'), ('110', 'nummod'), ('mil', 'flat'), ('mais', 'cc'), ('uma', 'nummod'), ('porcentagem', 'conj'), ('referente', 'advmod'), ('a', 'case'), ('obra', 'obl'), ('de', 'case'), ('abastecimento', 'nmod'), ('de', 'case'), ('água', 'nmod'), ('em', 'case'), ('Roraima', 'obl'), (',', 'punct'), ('ainda', 'mark'), ('a', 'fixed'), ('ser', 'aux:pass'), ('licitar', 'advcl'), ('.', 'punct')], [('liberdade', 'root'), ('sindical', 'amod')], [('o', 'det'), ('taxa', 'nsubj'), ('de', 'case'), ('juro', 'nmod'), ('equivalente', 'amod'), (None, None), ('de', 'case'), ('o', 'det'), ('CDBs', 'nmod'), ('diminuir', 'root'), ('2,31', 'nummod'), ('ponto', 'obj'), ('percentual', 'amod'), ('em', 'case'), ('relação', 'obl'), (None, None), ('a', 'case'), ('o', 'det'), ('média', 'nmod'), (None, None), ('de', 'case'), ('o', 'det'), ('último', 'amod'), ('segunda-feira', 'nmod'), ('.', 'punct')], [('peixe', 'nsubj'), ('passar', 'root'), ('a', 'mark'), ('ter', 'xcomp'), ('gosto', 'obj'), ('de', 'case'), ('carne', 'nmod'), ('para', 'case'), ('eu', 'obl'), ('e', 'cc'), ('um', 'det'), ('noite', 'obl'), (None, None), ('de', 'case'), ('este', 'det'), (',', 'punct'), (None, None), ('em', 'case'), ('o', 'det'), ('rodeio', 'obl'), (',', 'punct'), ('eu', 'nsubj'), ('confundir', 'conj'), ('salsicha', 'obj'), ('caseiro', 'amod'), ('com', 'case'), ('frango', 'iobj'), ('kebab', 'nmod'), ('.', 'punct')], [('o', 'det'), ('reunião', 'nsubj'), ('terminar', 'root'), ('ontem', 'advmod'), ('em', 'case'), ('Budapeste', 'obl'), ('.', 'punct')], [('mas', 'cc'), ('a', 'case'), ('bordo', 'obl'), ('de', 'case'), ('um', 'det'), (\"'\", 'punct'), ('cadillac', 'nmod'), (\"'\", 'punct'), ('preto', 'amod'), ('conversível', 'amod'), (',', 'punct'), ('o', 'det'), ('presidente', 'nsubj'), ('Menem', 'appos'), ('atravessar', 'root'), ('o', 'det'), ('pista', 'obj'), (None, None), ('de', 'case'), ('o', 'det'), ('parque', 'nmod'), (None, None), ('de', 'case'), ('o', 'det'), ('Sociedade', 'nmod'), ('Rural', 'flat:name'), ('Argentina', 'flat:name'), ('sob', 'case'), ('o', 'det'), ('aplauso', 'obl'), (None, None), ('de', 'case'), ('o', 'det'), ('platéia', 'nmod'), ('de', 'case'), ('cerca', 'advmod'), ('de', 'fixed'), ('10', 'nummod'), ('mil', 'flat'), ('agricultor', 'nmod'), ('.', 'punct')], [('Romário', 'nsubj'), ('ser', 'cop'), ('querido', 'parataxis'), (',', 'punct'), ('mas', 'cc'), ('em', 'case'), ('certos', 'det'), ('bar', 'obl'), ('ele', 'nsubj'), ('não', 'advmod'), ('entravar', 'conj'), ('»', 'punct'), (',', 'punct'), ('dizer', 'root'), ('um', 'det'), ('taxista', 'nsubj'), ('.', 'punct')], [('querer', 'root'), ('ser', 'cop'), ('uma', 'obl'), (None, None), ('de', 'case'), ('o', 'det'), ('bom', 'amod'), ('atriz', 'nmod'), (None, None), ('de', 'case'), ('o', 'det'), ('mundo', 'nmod'), ('.', 'punct')], [(None, None), ('em', 'case'), ('o', 'det'), ('PPR', 'nmod'), (',', 'punct'), ('o', 'det'), ('discussão', 'nsubj'), ('ser', 'cop'), ('sobre', 'case'), ('o', 'det'), ('política', 'root'), ('de', 'case'), ('aliança', 'nmod'), ('e', 'cc'), ('se', 'mark'), ('ela', 'nsubj'), ('incluir', 'conj'), ('o', 'det'), ('psdb', 'obj'), (',', 'punct'), ('além', 'cc'), (None, None), ('de', 'fixed'), ('o', 'det'), ('novo', 'amod'), ('candidato', 'conj'), (None, None), ('de', 'case'), ('o', 'det'), ('partido', 'nmod'), ('a', 'case'), ('presidente', 'nmod'), ('.', 'punct')], [('fantasia', 'root'), ('infantil', 'amod'), (':', 'punct')], [('não', 'advmod'), ('ser', 'cop'), ('o', 'det'), ('único', 'root'), ('.', 'punct')], [('quem', 'nsubj'), ('experimentar', 'csubj'), ('o', 'det'), ('último', 'amod'), ('versão', 'obj'), ('(', 'punct'), ('safra', 'appos'), ('91', 'nummod'), (')', 'punct'), ('descobrir', 'root'), ('um', 'det'), ('vinho', 'obj'), ('novo', 'amod'), ('ainda', 'advmod'), (',', 'punct'), ('adstringente', 'amod'), (',', 'punct'), ('mas', 'cc'), ('de', 'case'), ('aroma', 'conj'), ('e', 'cc'), ('sabor', 'conj'), ('intenso', 'amod'), ('.', 'punct')], [('enquanto', 'advmod'), ('ser', 'cop'), ('tempo', 'root')], [('o', 'det'), ('nível', 'nsubj'), (None, None), ('de', 'case'), ('o', 'det'), ('depósito', 'nmod'), ('aumentar', 'root'), ('440', 'nummod'), ('%', 'obj'), (',', 'punct'), ('em', 'case'), ('1993', 'obl'), (',', 'punct'), ('basicamente', 'advmod'), ('em', 'case'), ('função', 'obl'), ('de', 'case'), ('depósito', 'nmod'), ('interfinanceiro', 'amod'), ('e', 'cc'), ('a', 'case'), ('prazo', 'conj'), ('.', 'punct')], [('o', 'det'), ('cantora', 'nsubj'), ('e', 'cc'), ('violinista', 'conj'), ('Meca', 'appos'), ('Vargas', 'flat:name'), ('não', 'advmod'), ('fazer', 'root'), ('coro', 'obj'), ('com', 'case'), ('o', 'det'), ('contente', 'nmod'), ('com', 'case'), ('o', 'det'), ('computador', 'obl'), ('.', 'punct')], [('esse', 'det'), ('dificuldade', 'nsubj'), (',', 'punct'), ('que', 'nsubj'), ('surgir', 'acl:relcl'), ('desde', 'case'), ('o', 'det'), ('lançamento', 'obl'), (None, None), ('de', 'case'), ('o', 'det'), ('idéia', 'nmod'), (',', 'punct'), ('estimular', 'root'), ('economista', 'obj'), ('e', 'cc'), ('governo', 'conj'), ('a', 'mark'), ('buscar', 'xcomp'), ('caminho', 'obj'), ('mais', 'advmod'), ('rápido', 'amod'), ('.', 'punct')], [('o', 'det'), ('produtor', 'nsubj'), ('iniciar', 'root'), ('o', 'det'), ('colheita', 'obj'), (',', 'punct'), ('em', 'case'), ('fevereiro', 'obl'), ('passado', 'amod'), (',', 'punct'), ('de', 'case'), ('170', 'nummod'), ('hectare', 'nmod'), ('de', 'case'), ('amendoim', 'nmod'), ('e', 'cc'), ('240', 'nummod'), ('hectare', 'conj'), ('de', 'case'), ('soja', 'nmod'), ('.', 'punct')], [('o', 'det'), ('mar', 'nsubj'), ('ser', 'cop'), ('cristalino', 'root'), ('.', 'punct')], [('tomar', 'acl'), ('de', 'case'), ('surpresa', 'obl'), (',', 'punct'), ('Santana', 'nsubj'), ('dar', 'root'), ('um', 'det'), ('sorriso', 'obj'), ('amarelo', 'amod'), (',', 'punct'), ('mas', 'cc'), ('logo', 'advmod'), (None, None), ('recuperar', 'conj'), ('se', 'expl'), (':', 'punct')], [(None, None), ('em', 'case'), ('o', 'det'), ('noite', 'obl'), ('de', 'case'), ('ontem', 'advmod'), (',', 'punct'), ('haver', 'root'), ('cerca', 'advmod'), ('de', 'fixed'), ('3.000', 'nummod'), ('pessoa', 'obj'), ('reter', 'acl'), (None, None), ('em', 'case'), ('o', 'det'), ('aeroporto', 'obl'), ('de', 'case'), ('Ezeiza', 'nmod'), (',', 'punct'), ('o', 'det'), ('principal', 'amod'), ('de', 'case'), ('Buenos', 'nmod'), ('Aires', 'flat:name'), ('.', 'punct')], [('o', 'det'), ('vitrina', 'nsubj'), ('sempre', 'advmod'), ('guardar', 'root'), ('surpresa', 'obj'), (',', 'punct'), ('variar', 'advcl'), ('desde', 'case'), ('o', 'det'), ('caro', 'amod'), ('refinamento', 'obl'), (None, None), ('de', 'case'), ('o', 'det'), ('avenida', 'nmod'), ('Montaigne', 'appos'), ('(', 'punct'), ('que', 'nsubj'), ('concentrar', 'acl:relcl'), ('o', 'det'), ('alto', 'amod'), ('costura', 'obj'), (',', 'punct'), (None, None), ('em', 'case'), ('o', 'det'), ('Champs', 'obl'), ('Elysèes', 'flat:name'), (')', 'punct'), ('até', 'case'), ('o', 'det'), ('pechincha', 'obl'), (None, None), ('em', 'case'), ('o', 'det'), ('pequeno', 'amod'), ('loja', 'nmod'), ('espalhar', 'acl'), (None, None), ('por', 'case'), ('o', 'det'), ('cidade', 'obl'), ('e', 'cc'), (None, None), ('em', 'case'), ('o', 'det'), ('magazine', 'conj'), ('.', 'punct')], [('o', 'det'), ('reunião', 'nsubj'), ('de', 'case'), ('bispo', 'nmod'), ('discutir', 'root'), ('o', 'det'), ('vida', 'obj'), ('de', 'case'), ('padre', 'nmod'), ('e', 'cc'), ('freira', 'conj'), ('.', 'punct')], [('enquanto', 'mark'), ('Gloria', 'nsubj'), ('Pires', 'flat:name'), ('ficar', 'advcl'), ('nervoso', 'xcomp'), ('em', 'case'), ('seu', 'det'), ('estréia', 'obl'), ('como', 'case'), ('modette', 'nmod'), (',', 'punct'), ('o', 'det'), ('marido', 'nsubj'), ('Orlando', 'appos'), ('Moraes', 'flat:name'), ('amar', 'root'), ('e', 'cc'), ('pedir', 'conj'), ('bis', 'obj'), ('.', 'punct')], [('Argentina', 'nsubj'), ('produzir', 'root'), ('mais', 'det'), ('petróleo', 'obj')], [('o', 'det'), ('atentado', 'nsubj:pass'), ('ter', 'aux'), ('ser', 'aux:pass'), ('planejar', 'root'), (None, None), ('por', 'case'), ('o', 'det'), ('grupo', 'obl:agent'), ('radical', 'amod'), ('islâmico', 'amod'), (\"Gama'a\", 'appos'), ('al-Islamiya', 'flat:name'), (',', 'punct'), ('que', 'nsubj'), ('lançar', 'acl:relcl'), ('campanha', 'obj'), ('contra', 'case'), ('o', 'det'), ('governo', 'nmod'), ('egípcio', 'amod'), ('em', 'case'), ('1992', 'obl'), ('para', 'case'), ('o', 'det'), ('criação', 'obl'), ('de', 'case'), ('um', 'det'), ('estado', 'nmod'), ('islâmico', 'amod'), ('fundamentalista', 'amod'), ('.', 'punct')], [('haver', 'root'), ('tiroteio', 'obj'), ('.', 'punct')], [('o', 'det'), ('Chacal', 'nsubj'), ('chegar', 'root'), ('ontem', 'advmod'), (None, None), ('a', 'case'), ('o', 'det'), ('10h30', 'obl'), ('(', 'punct'), ('5h30', 'appos'), (None, None), ('em', 'case'), ('o', 'det'), ('Brasil', 'nmod'), (')', 'punct'), (None, None), ('a', 'case'), ('o', 'det'), ('Palácio', 'obj'), (None, None), ('de', 'case'), ('o', 'det'), ('Justiça', 'nmod'), (',', 'punct'), ('usar', 'advcl'), ('algema', 'obj'), ('e', 'cc'), ('cercar', 'conj'), ('por', 'case'), ('um', 'det'), ('forte', 'amod'), ('esquema', 'obl:agent'), ('de', 'case'), ('segurança', 'nmod'), ('.', 'punct')], [('mas', 'cc'), ('aceitar', 'parataxis'), ('porque', 'advmod'), ('ser', 'cop'), ('um', 'det'), ('gentileza', 'advcl'), (None, None), ('de', 'case'), ('o', 'det'), ('governador', 'nmod'), ('»', 'punct'), (',', 'punct'), ('dizer', 'root'), ('.', 'punct')], [('segundo', 'case'), ('ele', 'obl'), (',', 'punct'), ('o', 'det'), ('proposta', 'nsubj'), ('inicial', 'amod'), ('ser', 'cop'), ('zonear', 'root'), (None, None), ('em', 'case'), ('o', 'det'), ('primeiro', 'amod'), ('ano', 'obl'), ('o', 'det'), ('bacia', 'obj'), (None, None), ('de', 'case'), ('o', 'det'), ('rio', 'nmod'), ('Meia', 'appos'), ('Ponte', 'flat:name'), ('.', 'punct')], [('não', 'advmod'), ('se', 'nsubj'), ('pensar', 'root'), ('que', 'mark'), ('este', 'det'), ('ruptura', 'nsubj'), ('modernizante', 'amod'), ('passar', 'ccomp'), (None, None), ('por', 'case'), ('o', 'det'), ('PT', 'obj'), ('.', 'punct')], [('o', 'det'), ('governo', 'nsubj'), ('não', 'advmod'), ('estar', 'cop'), ('errado', 'root'), ('em', 'mark'), ('formular', 'advcl'), ('regra', 'obj'), ('que', 'nsubj'), ('possibilitar', 'acl:relcl'), ('o', 'det'), ('alongamento', 'obj'), ('.', 'punct')], [('afastar', 'acl'), ('de', 'case'), ('seu', 'det'), ('companheiro', 'obj'), ('de', 'case'), ('ataque', 'nmod'), (',', 'punct'), ('Stoichkov', 'appos'), (',', 'punct'), ('pegar', 'root'), ('pouco', 'advmod'), (None, None), ('em', 'case'), ('o', 'det'), ('bola', 'obl'), ('.', 'punct')], [('«', 'punct'), (None, None), ('em', 'case'), ('o', 'det'), ('vila', 'obl'), (',', 'punct'), ('quando', 'mark'), ('receber', 'advcl'), ('o', 'det'), ('bola', 'obj'), (',', 'punct'), ('ter', 'aux'), ('que', 'mark'), ('ficar', 'root'), ('olhar', 'xcomp'), ('seu', 'det'), ('trajetória', 'obj'), (',', 'punct'), ('para', 'mark'), ('não', 'advmod'), ('ser', 'aux:pass'), ('surpreender', 'advcl'), ('.', 'punct')], [('Venezuela', 'root'), ('--', 'punct'), ('Miguel', 'parataxis'), ('Angel', 'flat:name'), ('Burelli', 'flat:name'), ('Rivas', 'flat:name'), ('(', 'punct'), ('ministro', 'appos'), (None, None), ('de', 'case'), ('o', 'det'), ('Relações', 'nmod'), ('Exteriores', 'flat:name'), (')', 'punct')], [('até', 'case'), ('aqui', 'advmod'), (',', 'punct'), ('o', 'det'), ('tiro', 'nsubj'), ('de', 'case'), ('Lula', 'nmod'), ('parecer', 'root'), ('não', 'advmod'), ('ter', 'aux'), ('abalar', 'xcomp'), ('o', 'det'), ('alvo', 'obj'), ('.', 'punct')], [('Moscou', 'nsubj'), ('exigir', 'root'), ('que', 'mark'), ('conferência', 'nsubj'), ('sobre', 'case'), ('segurança', 'nmod'), ('europeu', 'amod'), ('recompensar', 'ccomp'), ('o', 'det'), ('Sérvia', 'obj'), ('por', 'mark'), ('pressionar', 'xcomp'), ('sérvio-bosnio', 'obj')], [(None, None), ('em', 'case'), ('o', 'det'), ('parágrafo', 'obl'), ('único', 'amod'), (None, None), ('de', 'case'), ('o', 'det'), ('seu', 'det'), ('primeiro', 'amod'), ('artigo', 'nmod'), (',', 'punct'), ('ele', 'nsubj'), ('afirmar', 'root'), ('que', 'mark'), ('o', 'det'), ('candidato', 'nsubj'), ('não', 'advmod'), ('poder', 'ccomp'), ('apresentar', 'xcomp'), ('«', 'punct'), ('patologia', 'obj'), ('com', 'case'), ('perspectiva', 'nmod'), ('presente', 'amod'), (',', 'punct'), ('de', 'case'), ('incapacidade', 'nmod'), (None, None), ('em', 'case'), ('o', 'det'), ('futuro', 'nmod'), ('»', 'punct'), ('.', 'punct')], [('custar', 'root'), ('US$', 'obj'), ('45', 'nummod'), (None, None), ('em', 'case'), ('o', 'det'), ('Multimídia', 'obl'), ('Center', 'flat:name'), ('(', 'punct'), ('tel', 'appos'), ('011', 'fixed'), ('959-2650', 'flat'), (')', 'punct'), ('.', 'punct')], [('a', 'case'), ('partir', 'fixed'), (None, None), ('de', 'fixed'), ('o', 'det'), ('dia', 'obl'), ('17', 'nummod'), (',', 'punct'), ('o', 'det'), ('Playtronic', 'nsubj'), ('também', 'advmod'), ('ter', 'root'), ('um', 'det'), ('estande', 'obj'), (None, None), ('em', 'case'), ('o', 'det'), ('Iguatemi', 'obl'), ('.', 'punct')], [('o', 'det'), ('motorista', 'nsubj'), (None, None), ('de', 'case'), ('o', 'det'), ('EMTU', 'nmod'), ('(', 'punct'), ('Empresa', 'appos'), ('Metropolitana', 'flat:name'), ('de', 'case'), ('Transportes', 'nmod'), ('Urbanos', 'flat:name'), (')', 'punct'), (',', 'punct'), ('empresa', 'appos'), (None, None), ('de', 'case'), ('o', 'det'), ('governo', 'nmod'), (None, None), ('de', 'case'), ('o', 'det'), ('estado', 'nmod'), (',', 'punct'), ('ter', 'root'), ('o', 'det'), ('mesmo', 'amod'), ('piso', 'obj'), ('salarial', 'amod'), (None, None), ('de', 'case'), ('o', 'det'), ('empresa', 'nmod'), ('privado', 'amod'), ('.', 'punct')], [('infância', 'root'), (':', 'punct')], [(None, None), ('em', 'case'), ('o', 'det'), ('ataque', 'root')]]\n"
          ]
        }
      ]
    },
    {
      "cell_type": "markdown",
      "source": [
        "#Brill Tagger"
      ],
      "metadata": {
        "id": "9GVGYpJBd_ZP"
      }
    },
    {
      "cell_type": "code",
      "source": [
        "frases_treino = lista_frases[:int(0.7 * len(lista_frases))]\n",
        "frases_teste = lista_frases[int(0.7 * len(lista_frases)):]"
      ],
      "metadata": {
        "id": "TPYqKEqZ1-e2"
      },
      "execution_count": null,
      "outputs": []
    },
    {
      "cell_type": "code",
      "source": [
        "import nltk\n",
        "!pip install tag_util\n",
        "from tag_util import backoff_tagger"
      ],
      "metadata": {
        "id": "sc0FVrJh0GhE"
      },
      "execution_count": null,
      "outputs": []
    },
    {
      "cell_type": "code",
      "source": [
        "t0 = nltk.DefaultTagger('DT')\n",
        "t1 = nltk.UnigramTagger(frases_treino, backoff=t0)\n",
        "t2 = nltk.BigramTagger(frases_treino, backoff=t1)\n",
        "t3 = nltk.TrigramTagger(frases_treino, backoff=t2)\n",
        "\n",
        "backoff_tagger = [t0,t1,t2,t3]"
      ],
      "metadata": {
        "id": "Y3i8zzy71Les"
      },
      "execution_count": null,
      "outputs": []
    },
    {
      "cell_type": "code",
      "source": [
        "#Links de ref\n",
        "#https://www.nltk.org/book/ch05.html\n",
        "#https://www.nltk.org/api/nltk.tag.sequential.html?highlight=unigramtagger#nltk.tag.sequential.UnigramTagger\n",
        "#https://www.nltk.org/api/nltk.tag.brill.html?highlight=brill#module-nltk.tag.brill\n",
        "#https://www.nltk.org/api/nltk.tag.brill_trainer.html?highlight=brill#module-nltk.tag.brill_trainer\n",
        "#https://www.geeksforgeeks.org/nlp-brill-tagger/"
      ],
      "metadata": {
        "id": "94wJFvab3xAc"
      },
      "execution_count": null,
      "outputs": []
    },
    {
      "cell_type": "code",
      "source": [
        "# Loading Libraries\n",
        "from nltk.tag import brill, brill_trainer\n",
        "\n",
        "def train_brill_tagger(initial_tagger, train_sents, **kwargs):\n",
        "\ttemplates = [\n",
        "\t\t\tbrill.Template(brill.Pos([-1])),\n",
        "\t\t\tbrill.Template(brill.Pos([1])),\n",
        "\t\t\tbrill.Template(brill.Pos([-2])),\n",
        "\t\t\tbrill.Template(brill.Pos([2])),\n",
        "\t\t\tbrill.Template(brill.Pos([-2, -1])),\n",
        "\t\t\tbrill.Template(brill.Pos([1, 2])),\n",
        "\t\t\tbrill.Template(brill.Pos([-3, -2, -1])),\n",
        "\t\t\tbrill.Template(brill.Pos([1, 2, 3])),\n",
        "\t\t\tbrill.Template(brill.Pos([-1]), brill.Pos([1])),\n",
        "\t\t\tbrill.Template(brill.Word([-1])),\n",
        "\t\t\tbrill.Template(brill.Word([1])),\n",
        "\t\t\tbrill.Template(brill.Word([-2])),\n",
        "\t\t\tbrill.Template(brill.Word([2])),\n",
        "\t\t\tbrill.Template(brill.Word([-2, -1])),\n",
        "\t\t\tbrill.Template(brill.Word([1, 2])),\n",
        "\t\t\tbrill.Template(brill.Word([-3, -2, -1])),\n",
        "\t\t\tbrill.Template(brill.Word([1, 2, 3])),\n",
        "\t\t\tbrill.Template(brill.Word([-1]), brill.Word([1])),\n",
        "\t\t\t]\n",
        "\t\n",
        "\t# Using BrillTaggerTrainer to train\n",
        "\ttrainer = brill_trainer.BrillTaggerTrainer(\n",
        "\t\t\tinitial_tagger, templates, deterministic = True)\n",
        "\t\n",
        "\treturn trainer.train(train_sents, **kwargs)\n"
      ],
      "metadata": {
        "id": "FSdMz8JpFnDX"
      },
      "execution_count": null,
      "outputs": []
    },
    {
      "cell_type": "code",
      "source": [
        "from nltk.tag import brill, brill_trainer\n",
        "from nltk.tag import DefaultTagger\n",
        "# from nltk.corpus import treebank\n",
        "# from tag_util import train_brill_tagger\n",
        "\n",
        "# Initializing\n",
        "default_tag = DefaultTagger('NN')\n",
        "\n",
        "# initializing training and testing set\t\n",
        "# train_data = treebank.tagged_sents()[:3000]\n",
        "# test_data = treebank.tagged_sents()[3000:]\n",
        "\n",
        "\n",
        "\n",
        "\n",
        "train_brill_tagger(default_tag,frases_treino)\n",
        "\n",
        "\n",
        "\n",
        "initial_tag = backoff_tagger(\n",
        "\t\tfrases_treino, [UnigramTagger, BigramTagger,\n",
        "\t\t\t\t\tTrigramTagger], backoff = default_tagger)\n",
        "\t\n",
        "a = initial_tag.evaluate(test_data)\n",
        "print (\"Accuracy of Initial Tag : \", a)\n"
      ],
      "metadata": {
        "colab": {
          "base_uri": "https://localhost:8080/",
          "height": 242
        },
        "id": "OrTw64nRFswq",
        "outputId": "b105de3e-b47b-48e2-f1f4-855f0431ab56"
      },
      "execution_count": null,
      "outputs": [
        {
          "output_type": "error",
          "ename": "NameError",
          "evalue": "ignored",
          "traceback": [
            "\u001b[0;31m---------------------------------------------------------------------------\u001b[0m",
            "\u001b[0;31mNameError\u001b[0m                                 Traceback (most recent call last)",
            "\u001b[0;32m<ipython-input-32-c2d4e47cfd05>\u001b[0m in \u001b[0;36m<module>\u001b[0;34m()\u001b[0m\n\u001b[1;32m     19\u001b[0m \u001b[0;34m\u001b[0m\u001b[0m\n\u001b[1;32m     20\u001b[0m initial_tag = backoff_tagger(\n\u001b[0;32m---> 21\u001b[0;31m \t\tfrases_treino, [UnigramTagger, BigramTagger,\n\u001b[0m\u001b[1;32m     22\u001b[0m \t\t\t\t\tTrigramTagger], backoff = default_tagger)\n\u001b[1;32m     23\u001b[0m \u001b[0;34m\u001b[0m\u001b[0m\n",
            "\u001b[0;31mNameError\u001b[0m: name 'UnigramTagger' is not defined"
          ]
        }
      ]
    },
    {
      "cell_type": "code",
      "source": [
        "brill_tag = train_brill_tagger(initial_tag, train_data)\n",
        "b = brill_tag.evaluate(test_data)\n",
        "\n",
        "print (\"Accuracy of brill_tag : \", b)\n"
      ],
      "metadata": {
        "colab": {
          "base_uri": "https://localhost:8080/",
          "height": 224
        },
        "id": "uUeJ6wH_Gfmp",
        "outputId": "28b7211e-d901-40c3-f1bf-ae7185f6400e"
      },
      "execution_count": null,
      "outputs": [
        {
          "output_type": "error",
          "ename": "NameError",
          "evalue": "ignored",
          "traceback": [
            "\u001b[0;31m---------------------------------------------------------------------------\u001b[0m",
            "\u001b[0;31mNameError\u001b[0m                                 Traceback (most recent call last)",
            "\u001b[0;32m<ipython-input-24-ba253d76e7ea>\u001b[0m in \u001b[0;36m<module>\u001b[0;34m()\u001b[0m\n\u001b[0;32m----> 1\u001b[0;31m \u001b[0mbrill_tag\u001b[0m \u001b[0;34m=\u001b[0m \u001b[0mtrain_brill_tagger\u001b[0m\u001b[0;34m(\u001b[0m\u001b[0minitial_tag\u001b[0m\u001b[0;34m,\u001b[0m \u001b[0mtrain_data\u001b[0m\u001b[0;34m)\u001b[0m\u001b[0;34m\u001b[0m\u001b[0;34m\u001b[0m\u001b[0m\n\u001b[0m\u001b[1;32m      2\u001b[0m \u001b[0mb\u001b[0m \u001b[0;34m=\u001b[0m \u001b[0mbrill_tag\u001b[0m\u001b[0;34m.\u001b[0m\u001b[0mevaluate\u001b[0m\u001b[0;34m(\u001b[0m\u001b[0mtest_data\u001b[0m\u001b[0;34m)\u001b[0m\u001b[0;34m\u001b[0m\u001b[0;34m\u001b[0m\u001b[0m\n\u001b[1;32m      3\u001b[0m \u001b[0;34m\u001b[0m\u001b[0m\n\u001b[1;32m      4\u001b[0m \u001b[0mprint\u001b[0m \u001b[0;34m(\u001b[0m\u001b[0;34m\"Accuracy of brill_tag : \"\u001b[0m\u001b[0;34m,\u001b[0m \u001b[0mb\u001b[0m\u001b[0;34m)\u001b[0m\u001b[0;34m\u001b[0m\u001b[0;34m\u001b[0m\u001b[0m\n",
            "\u001b[0;31mNameError\u001b[0m: name 'initial_tag' is not defined"
          ]
        }
      ]
    }
  ]
}